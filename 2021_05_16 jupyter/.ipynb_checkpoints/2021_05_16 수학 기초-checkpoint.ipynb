{
 "cells": [
  {
   "cell_type": "code",
   "execution_count": 7,
   "id": "8ceb1842",
   "metadata": {},
   "outputs": [
    {
     "name": "stdout",
     "output_type": "stream",
     "text": [
      "[[ 6  3]\n",
      " [12  6]]\n",
      "[[1 4 7]\n",
      " [1 4 7]\n",
      " [1 4 7]]\n",
      "\n",
      "[[0 1]\n",
      " [1 2]\n",
      " [2 3]]\n"
     ]
    }
   ],
   "source": [
    "# 벡터, 행렬\n",
    "import numpy as np\n",
    "\n",
    "a = np.array([[1,2,3],[4,5,6]])    # 2x3 행렬\n",
    "b = np.array([[0.21,0.14],[-1.3,0.81],[0.12,-2.1]])    # 3x2 행렬\n",
    "\n",
    "# print(a*b) 불가\n",
    "\n",
    "# dot 함수 활용 행렬 곱 계산\n",
    "a = np.array([[0,1,2],[1,2,3]])\n",
    "b = np.array([[2,1],[2,1],[2,1]])\n",
    "\n",
    "print(np.dot(a,b))\n",
    "print(np.dot(b,a), end = \"\\n\\n\")\n",
    "\n",
    "#전치\n",
    "print(a.T)"
   ]
  },
  {
   "cell_type": "markdown",
   "id": "e4dacc4b",
   "metadata": {},
   "source": [
    "이후 딥러닝 할때, 연쇄법칙, 편미분, 연쇄 법칙의 확장을 잘 고려하자."
   ]
  },
  {
   "cell_type": "code",
   "execution_count": null,
   "id": "d43e5bc9",
   "metadata": {},
   "outputs": [],
   "source": [
    "#정규분포 히스토그램\n",
    "import numpy as np\n",
    "import matplotlib.pyplot as plt\n",
    "\n",
    "# 정규분포를 따르는 난수 생성(평균 50, 표준편차 10, 10000개 생성)\n",
    "x = np.random.normal(50,10,10000)\n",
    "\n",
    "# 히스토그램\n",
    "plt.hist(x, bins=50)      # 50은 막대의 수\n",
    "plt.show()"
   ]
  }
 ],
 "metadata": {
  "kernelspec": {
   "display_name": "Python 3",
   "language": "python",
   "name": "python3"
  },
  "language_info": {
   "codemirror_mode": {
    "name": "ipython",
    "version": 3
   },
   "file_extension": ".py",
   "mimetype": "text/x-python",
   "name": "python",
   "nbconvert_exporter": "python",
   "pygments_lexer": "ipython3",
   "version": "3.8.8"
  }
 },
 "nbformat": 4,
 "nbformat_minor": 5
}
