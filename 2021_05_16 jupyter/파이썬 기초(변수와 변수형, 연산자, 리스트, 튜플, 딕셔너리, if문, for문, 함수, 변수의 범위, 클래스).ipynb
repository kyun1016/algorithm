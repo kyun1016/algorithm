{
 "cells": [
  {
   "cell_type": "markdown",
   "id": "04a28beb",
   "metadata": {},
   "source": [
    "part 1. 변수와 변수형"
   ]
  },
  {
   "cell_type": "code",
   "execution_count": 13,
   "id": "bb977e2c",
   "metadata": {},
   "outputs": [],
   "source": [
    "#자료형 선언\n",
    "a = 123\n",
    "b = 123.456\n",
    "c = \"Hello World!\"\n",
    "d = True\n",
    "e = [1,3,5]"
   ]
  },
  {
   "cell_type": "code",
   "execution_count": 17,
   "id": "8c40cd19",
   "metadata": {
    "scrolled": true
   },
   "outputs": [
    {
     "name": "stdout",
     "output_type": "stream",
     "text": [
      "<class 'bool'>\n",
      "<class 'bool'>\n",
      "<class 'str'>\n",
      "<class 'bool'>\n",
      "<class 'list'>\n",
      "1\n",
      "2\n"
     ]
    }
   ],
   "source": [
    "#type 함수의 실행결과 출력\n",
    "print(type(a))\n",
    "print(type(b))\n",
    "print(type(c))\n",
    "print(type(d))\n",
    "print(type(e))\n",
    "\n",
    "#bool 값 연산\n",
    "a = True; b = False\n",
    "print(a+b)\n",
    "print(a+a+b)\n"
   ]
  },
  {
   "cell_type": "code",
   "execution_count": 18,
   "id": "b854970b",
   "metadata": {},
   "outputs": [
    {
     "name": "stdout",
     "output_type": "stream",
     "text": [
      "[1, 3, 5]\n",
      "1 1\n",
      "2 3\n",
      "3 5\n",
      "1\n",
      "3\n",
      "5\n"
     ]
    }
   ],
   "source": [
    "#list 출력\n",
    "print(e)\n",
    "for index, value in enumerate(e, start=1):\n",
    "    print(index, value)\n",
    "\n",
    "for i in e:\n",
    "    print(i)\n",
    "\n",
    "for i in e:\n",
    "    print(i)\n",
    "    "
   ]
  },
  {
   "cell_type": "markdown",
   "id": "46627400",
   "metadata": {},
   "source": [
    "part 2. 튜플"
   ]
  },
  {
   "cell_type": "code",
   "execution_count": 21,
   "id": "665ef855",
   "metadata": {},
   "outputs": [
    {
     "name": "stdout",
     "output_type": "stream",
     "text": [
      "4\n",
      "1 3 5\n",
      "4 5 6\n"
     ]
    }
   ],
   "source": [
    "a = (1,2,3,4,5)\n",
    "print(a[3])\n",
    "a = [1,3,5]\n",
    "a1,a2,a3 = a\n",
    "print(a1,a2,a3)\n",
    "\n",
    "b = (4,5,6)\n",
    "b1,b2,b3 = b\n",
    "print(b1,b2,b3)"
   ]
  },
  {
   "cell_type": "markdown",
   "id": "3a424686",
   "metadata": {},
   "source": [
    "변수의 범위"
   ]
  },
  {
   "cell_type": "code",
   "execution_count": 25,
   "id": "e690aa21",
   "metadata": {},
   "outputs": [
    {
     "name": "stdout",
     "output_type": "stream",
     "text": [
      "123 456\n",
      "Local: 456\n",
      "Global: 123\n",
      "Global: 456\n",
      "Global: 456\n"
     ]
    }
   ],
   "source": [
    "# 전역변수와 지역변수\n",
    "a = 123 # 전역변수\n",
    "\n",
    "def showNum():\n",
    "    b = 456 # 지역변수\n",
    "    print(a,b)\n",
    "    \n",
    "showNum()\n",
    "\n",
    "# 함수 안에서 지역변수에 값을 입력하는 경우\n",
    "def setLocal():\n",
    "    a = 456 # 지역변수로 간주됨\n",
    "    print(\"Local:\",a)\n",
    "\n",
    "setLocal()\n",
    "print(\"Global:\",a)\n",
    "\n",
    "# global 키워드\n",
    "def setGlobal():\n",
    "    global ab\n",
    "    a = 456\n",
    "    print(\"Global:\",a)\n",
    "    \n",
    "setGlobal()\n",
    "print(\"Global:\",a)"
   ]
  },
  {
   "cell_type": "markdown",
   "id": "1422bd2e",
   "metadata": {},
   "source": [
    "클래스"
   ]
  },
  {
   "cell_type": "code",
   "execution_count": 28,
   "id": "d4d82678",
   "metadata": {},
   "outputs": [
    {
     "name": "stdout",
     "output_type": "stream",
     "text": [
      "7\n",
      "12\n",
      "7\n",
      "12\n",
      "-1\n",
      "0.75\n"
     ]
    }
   ],
   "source": [
    "# 클래스 정의\n",
    "class Calc:\n",
    "    def __init__(self, a):\n",
    "        self.a = a\n",
    "        \n",
    "    def add(self, b):\n",
    "        print(self.a + b)\n",
    "        \n",
    "    def multiply(self, b):\n",
    "        print(self.a*b)\n",
    "        \n",
    "calc = Calc(3)     # 클래스의 인스턴스 생성\n",
    "calc.add(4)        # 메소드 실행\n",
    "calc.multiply(4)\n",
    "\n",
    "# 클래스 상속\n",
    "class CalcPlus(Calc):\n",
    "    def subtract(self, b):\n",
    "        print(self.a - b)\n",
    "        \n",
    "    def divide(self, b):\n",
    "        print(self.a/b)\n",
    "        \n",
    "calc_plus = CalcPlus(3)\n",
    "calc_plus.add(4)\n",
    "calc_plus.multiply(4)\n",
    "calc_plus.subtract(4)\n",
    "calc_plus.divide(4)"
   ]
  },
  {
   "cell_type": "code",
   "execution_count": null,
   "id": "2733d64b",
   "metadata": {},
   "outputs": [],
   "source": [
    "\n",
    "    "
   ]
  }
 ],
 "metadata": {
  "kernelspec": {
   "display_name": "Python 3",
   "language": "python",
   "name": "python3"
  },
  "language_info": {
   "codemirror_mode": {
    "name": "ipython",
    "version": 3
   },
   "file_extension": ".py",
   "mimetype": "text/x-python",
   "name": "python",
   "nbconvert_exporter": "python",
   "pygments_lexer": "ipython3",
   "version": "3.8.8"
  }
 },
 "nbformat": 4,
 "nbformat_minor": 5
}
