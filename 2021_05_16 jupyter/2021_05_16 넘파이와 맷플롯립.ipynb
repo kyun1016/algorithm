{
 "cells": [
  {
   "cell_type": "code",
   "execution_count": 2,
   "id": "75906334",
   "metadata": {},
   "outputs": [],
   "source": [
    "%matplotlib inline\n",
    "\n",
    "import numpy as np\n",
    "import matplotlib.pyplot as plt"
   ]
  },
  {
   "cell_type": "code",
   "execution_count": 20,
   "id": "b3ebfea6",
   "metadata": {},
   "outputs": [
    {
     "name": "stdout",
     "output_type": "stream",
     "text": [
      "[0 1 2 3 4 5]\n",
      "\n",
      "[[0 1 2]\n",
      " [3 4 5]]\n",
      "[[[0 1 2]\n",
      "  [3 4 5]]\n",
      "\n",
      " [[5 4 3]\n",
      "  [2 1 0]]]\n",
      "(2, 2, 3)\n",
      "\n",
      "[[1, 2], [3, 4], [5, 6]]\n",
      "3\n",
      "3\n",
      "\n",
      "[[1 2]\n",
      " [3 4]\n",
      " [5 6]]\n",
      "\n",
      "(3, 2)\n"
     ]
    }
   ],
   "source": [
    "a = np.array([0,1,2,3,4,5])\n",
    "print(a, end = \"\\n\\n\")\n",
    "\n",
    "b = np.array([[0,1,2], [3,4,5]])\n",
    "print(b)\n",
    "\n",
    "c = np.array([[[0,1,2], [3,4,5]], [[5,4,3], [2,1,0]]])\n",
    "print(c)\n",
    "\n",
    "print(c.shape, end = \"\\n\\n\") #shape 속성 확인\n",
    "\n",
    "d = [[1,2],[3,4], [5,6]] # (3,2)\n",
    "print(d)\n",
    "print(len(d))\n",
    "print(len(np.array(d)), end = \"\\n\\n\")\n",
    "\n",
    "e = np.array(d)\n",
    "print(e,end = \"\\n\\n\")\n",
    "print(e.shape)"
   ]
  },
  {
   "cell_type": "code",
   "execution_count": 21,
   "id": "65cb6a59",
   "metadata": {},
   "outputs": [
    {
     "name": "stdout",
     "output_type": "stream",
     "text": [
      "[0. 0. 0. 0. 0. 0. 0. 0. 0. 0.]\n",
      "[1. 1. 1. 1. 1. 1. 1. 1. 1. 1.]\n",
      "[0.3173529  0.53927314 0.72309517 0.33185598 0.2029758  0.6772182\n",
      " 0.70510484 0.05373884 0.36280291 0.73740011]\n"
     ]
    }
   ],
   "source": [
    "# 배열을 생성하는 함수\n",
    "print(np.zeros(10))\n",
    "print(np.ones(10))\n",
    "print(np.random.rand(10))"
   ]
  },
  {
   "cell_type": "code",
   "execution_count": 31,
   "id": "2627cf80",
   "metadata": {},
   "outputs": [
    {
     "name": "stdout",
     "output_type": "stream",
     "text": [
      "[[0. 0. 0.]\n",
      " [0. 0. 0.]]\n",
      "[[1. 1. 1.]\n",
      " [1. 1. 1.]]\n",
      "[0.  0.1 0.2 0.3 0.4 0.5 0.6 0.7 0.8 0.9 1. ]\n",
      "[0.         0.02040816 0.04081633 0.06122449 0.08163265 0.10204082\n",
      " 0.12244898 0.14285714 0.16326531 0.18367347 0.20408163 0.2244898\n",
      " 0.24489796 0.26530612 0.28571429 0.30612245 0.32653061 0.34693878\n",
      " 0.36734694 0.3877551  0.40816327 0.42857143 0.44897959 0.46938776\n",
      " 0.48979592 0.51020408 0.53061224 0.55102041 0.57142857 0.59183673\n",
      " 0.6122449  0.63265306 0.65306122 0.67346939 0.69387755 0.71428571\n",
      " 0.73469388 0.75510204 0.7755102  0.79591837 0.81632653 0.83673469\n",
      " 0.85714286 0.87755102 0.89795918 0.91836735 0.93877551 0.95918367\n",
      " 0.97959184 1.        ]\n",
      "[0.   0.02 0.04 0.06 0.08 0.1  0.12 0.14 0.16 0.18 0.2  0.22 0.24 0.26\n",
      " 0.28 0.3  0.32 0.34 0.36 0.38 0.4  0.42 0.44 0.46 0.48 0.5  0.52 0.54\n",
      " 0.56 0.58 0.6  0.62 0.64 0.66 0.68 0.7  0.72 0.74 0.76 0.78 0.8  0.82\n",
      " 0.84 0.86 0.88 0.9  0.92 0.94 0.96 0.98 1.  ]\n"
     ]
    }
   ],
   "source": [
    "#튜플을 전달하는 경우\n",
    "print(np.zeros((2,3)))\n",
    "print(np.ones((2,3)))\n",
    "\n",
    "#linspace 활용\n",
    "print(np.linspace(0,1,11))\n",
    "\n",
    "#3번째 인수를 생략하는 경우 50개 선언\n",
    "print(np.linspace(0,1))\n",
    "\n",
    "print(np.linspace(0,1,51))"
   ]
  },
  {
   "cell_type": "code",
   "execution_count": 44,
   "id": "d52cf3c8",
   "metadata": {},
   "outputs": [
    {
     "name": "stdout",
     "output_type": "stream",
     "text": [
      "[[0 1 2 3]\n",
      " [4 5 6 7]]\n",
      "\n",
      "[[[0 1]\n",
      "  [2 3]]\n",
      "\n",
      " [[4 5]\n",
      "  [6 7]]]\n",
      "\n",
      "[[0]\n",
      " [1]\n",
      " [2]\n",
      " [3]\n",
      " [4]\n",
      " [5]\n",
      " [6]\n",
      " [7]]\n",
      "\n",
      "[0 1 2 3 4 5 6 7]\n",
      "\n",
      "[[0 1 2 3]\n",
      " [4 5 6 7]]\n",
      "\n",
      "[[[0 1]\n",
      "  [2 3]]\n",
      "\n",
      " [[4 5]\n",
      "  [6 7]]]\n"
     ]
    }
   ],
   "source": [
    "#reshape 메소드 활용\n",
    "a = np.array([0,1,2,3,4,5,6,7])  # 배열 생성\n",
    "b = a.reshape(2,4)               # (2,4) 형태의 2차원 배열로 변환\n",
    "print(b, end = \"\\n\\n\")\n",
    "\n",
    "c = b.reshape(2,2,2)\n",
    "print(c, end = \"\\n\\n\")\n",
    "\n",
    "d = c.reshape(8,1)\n",
    "print(d, end = \"\\n\\n\")\n",
    "\n",
    "# 1차원 배열로 변환\n",
    "e = c.reshape(-1)\n",
    "print(e, end = \"\\n\\n\")\n",
    "\n",
    "#원소 수를 자동으로 계산\n",
    "f = e.reshape(2,-1)\n",
    "print(f, end = \"\\n\\n\")\n",
    "\n",
    "g = f.reshape(2,2,-1)\n",
    "print(g)\n"
   ]
  },
  {
   "cell_type": "code",
   "execution_count": 53,
   "id": "db86cbba",
   "metadata": {},
   "outputs": [
    {
     "name": "stdout",
     "output_type": "stream",
     "text": [
      "[[0 1 2]\n",
      " [3 4 5]]\n",
      "\n",
      "[[3 4 5]\n",
      " [6 7 8]]\n",
      "\n",
      "[[ 0  3  6]\n",
      " [ 9 12 15]]\n",
      "\n",
      "[[5 4 3]\n",
      " [2 1 0]]\n",
      "\n",
      "[[5 5 5]\n",
      " [5 5 5]]\n",
      "\n",
      "[[0 4 6]\n",
      " [6 4 0]]\n",
      "\n"
     ]
    }
   ],
   "source": [
    "#배열 연산\n",
    "a = np.array([0,1,2,3,4,5]).reshape(2,3)\n",
    "print(a, end=\"\\n\\n\")\n",
    "print(a+3, end=\"\\n\\n\")\n",
    "print(a*3, end=\"\\n\\n\")\n",
    "\n",
    "b = np.array([5,4,3,2,1,0]).reshape(2,3)\n",
    "print(b, end=\"\\n\\n\")\n",
    "print(a+b, end=\"\\n\\n\")\n",
    "print(a*b, end=\"\\n\\n\")"
   ]
  },
  {
   "cell_type": "code",
   "execution_count": 54,
   "id": "2218d2b3",
   "metadata": {},
   "outputs": [
    {
     "name": "stdout",
     "output_type": "stream",
     "text": [
      "[[2 3]\n",
      " [2 3]]\n"
     ]
    }
   ],
   "source": [
    "#브로드캐스트\n",
    "a = np.array([[1,1],[1,1]])\n",
    "b = np.array([1,2])\n",
    "\n",
    "print(a+b)"
   ]
  },
  {
   "cell_type": "code",
   "execution_count": 60,
   "id": "3cfedcee",
   "metadata": {},
   "outputs": [
    {
     "name": "stdout",
     "output_type": "stream",
     "text": [
      "5 5\n",
      "[2 3 4 5 6 7]\n",
      "[0 1 2 3 4 5 6 7 8 9]\n",
      "[[0 1]\n",
      " [3 4]\n",
      " [6 7]]\n"
     ]
    }
   ],
   "source": [
    "#원소 값에 접근\n",
    "b = np.array([[0,1,2],[3,4,5]])\n",
    "print(b[1,2], b[1][2])  # 두 값은 동일\n",
    "\n",
    "# 슬라이싱 사용\n",
    "a = np.array([0,1,2,3,4,5,6,7,8,9])\n",
    "print(a[2:8])    # 2~7의 원소를 선택\n",
    "print(a[:])      # 모든 원소 값을 지정함\n",
    "\n",
    "# 범위를 지정함\n",
    "b = np.array([[0,1,2],[3,4,5],[6,7,8]])\n",
    "print(b[:,0:2])  # 각 차원의 범위를 지정"
   ]
  },
  {
   "cell_type": "code",
   "execution_count": 62,
   "id": "a578e3d6",
   "metadata": {},
   "outputs": [
    {
     "data": {
      "image/png": "[encoded data removed]",
      "text/plain": [
       "<Figure size 432x288 with 1 Axes>"
      ]
     },
     "metadata": {
      "needs_background": "light"
     },
     "output_type": "display_data"
    }
   ],
   "source": [
    "# 그래프 그리기\n",
    "x = np.linspace(0, 2*np.pi)\n",
    "y_sin = np.sin(x)\n",
    "y_cos = np.cos(x)\n",
    "\n",
    "# 축 이름\n",
    "plt.xlabel(\"x value\")\n",
    "plt.ylabel(\"y value\")\n",
    "\n",
    "# 그래프 제목\n",
    "plt.title(\"sin/cos\")\n",
    "plt.plot(x,y_sin, label=\"sin\")\n",
    "plt.plot(x,y_cos, label=\"cos\", linestyle=\"dashed\")\n",
    "plt.legend()                   # 범례 표시, 헉 matlab이랑 너무 비슷해\n",
    "\n",
    "plt.show()"
   ]
  },
  {
   "cell_type": "code",
   "execution_count": 63,
   "id": "49cff09b",
   "metadata": {},
   "outputs": [
    {
     "data": {
      "image/png": "[encoded data removed]",
      "text/plain": [
       "<Figure size 432x288 with 2 Axes>"
      ]
     },
     "metadata": {
      "needs_background": "light"
     },
     "output_type": "display_data"
    }
   ],
   "source": [
    "#이미지 생성\n",
    "img = np.array([[0,1,2,3],[4,5,6,7],[8,9,10,11],[12,13,14,15]])\n",
    "\n",
    "plt.imshow(img, \"gray\")         # 그레이 스케일로 표시\n",
    "plt.colorbar()                  # 컬러 막대 표시\n",
    "\n",
    "plt.show()"
   ]
  },
  {
   "cell_type": "code",
   "execution_count": null,
   "id": "3e777f74",
   "metadata": {},
   "outputs": [],
   "source": []
  }
 ],
 "metadata": {
  "kernelspec": {
   "display_name": "Python 3",
   "language": "python",
   "name": "python3"
  },
  "language_info": {
   "codemirror_mode": {
    "name": "ipython",
    "version": 3
   },
   "file_extension": ".py",
   "mimetype": "text/x-python",
   "name": "python",
   "nbconvert_exporter": "python",
   "pygments_lexer": "ipython3",
   "version": "3.8.8"
  }
 },
 "nbformat": 4,
 "nbformat_minor": 5
}
